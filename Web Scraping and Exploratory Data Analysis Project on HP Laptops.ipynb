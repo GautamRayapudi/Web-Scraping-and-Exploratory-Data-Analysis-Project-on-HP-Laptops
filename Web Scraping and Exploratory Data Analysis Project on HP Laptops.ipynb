{
 "cells": [
  {
   "cell_type": "markdown",
   "id": "1c081e0a",
   "metadata": {},
   "source": [
    "## HP Laptops Web Scraping"
   ]
  },
  {
   "cell_type": "markdown",
   "id": "8a8e65aa",
   "metadata": {},
   "source": [
    "HP Inc. is an American multinational information technology company headquartered in Palo Alto, California, that develops personal computers (PCs), printers and related supplies, as well as 3D printing solutions."
   ]
  },
  {
   "cell_type": "markdown",
   "id": "01796028",
   "metadata": {},
   "source": [
    "## Importing Required Libraries"
   ]
  },
  {
   "cell_type": "code",
   "execution_count": 1,
   "id": "cb547708",
   "metadata": {},
   "outputs": [],
   "source": [
    "# load the required libraries\n",
    "\n",
    "import warnings\n",
    "warnings.filterwarnings('ignore')\n",
    "\n",
    "import numpy as np\n",
    "import pandas as pd\n",
    "import matplotlib.pyplot as plt\n",
    "import seaborn as sns\n",
    "\n",
    "import requests\n",
    "from bs4 import BeautifulSoup\n",
    "\n",
    "import re\n",
    "#import time\n"
   ]
  },
  {
   "cell_type": "code",
   "execution_count": 2,
   "id": "53aebac7",
   "metadata": {},
   "outputs": [],
   "source": [
    "url='https://www.hp.com/in-en/shop/catalogsearch/result/index/?p=1&product_list_limit=24&q=laptop'"
   ]
  },
  {
   "cell_type": "code",
   "execution_count": 3,
   "id": "be5c67fc",
   "metadata": {},
   "outputs": [],
   "source": [
    "page=requests.get(url)"
   ]
  },
  {
   "cell_type": "code",
   "execution_count": 4,
   "id": "dee43a75",
   "metadata": {},
   "outputs": [
    {
     "data": {
      "text/plain": [
       "200"
      ]
     },
     "execution_count": 4,
     "metadata": {},
     "output_type": "execute_result"
    }
   ],
   "source": [
    "page.status_code"
   ]
  },
  {
   "cell_type": "code",
   "execution_count": 5,
   "id": "962626ad",
   "metadata": {},
   "outputs": [],
   "source": [
    "pagecontent=page.text"
   ]
  },
  {
   "cell_type": "code",
   "execution_count": 17,
   "id": "0483014f",
   "metadata": {},
   "outputs": [],
   "source": [
    "# get the HTML content from the page\n",
    "pagecontent = page.text"
   ]
  },
  {
   "cell_type": "code",
   "execution_count": 8,
   "id": "e48c041d",
   "metadata": {},
   "outputs": [],
   "source": [
    "text=requests.get(url).text\n",
    "#text"
   ]
  },
  {
   "cell_type": "code",
   "execution_count": 19,
   "id": "11fe4cf1",
   "metadata": {},
   "outputs": [],
   "source": [
    "s = BeautifulSoup(pagecontent)"
   ]
  },
  {
   "cell_type": "code",
   "execution_count": 20,
   "id": "d7a0a401",
   "metadata": {},
   "outputs": [],
   "source": [
    "prices=[]\n",
    "productname=[]\n",
    "original_price=[]\n",
    "specs=[]\n",
    "gst_price=[]\n",
    "price_saved=[]\n",
    "offer_per=[]\n",
    "for i in range(1,16):\n",
    "    for x in s.find_all('div', attrs={'class':'product details product-item-details'}):\n",
    "        price = int(re.sub(r'[₹,]','',re.findall(r'[₹0-9,]+',x.find('div', attrs={'class':'price-box price-final_price'}).text)[0]))\n",
    "        title = re.sub(r'[\\n ]','',x.find('h2',attrs={'class':'plp-h2-title stellar-title__small'}).text)\n",
    "        orig_price = int(re.sub(r'[₹,]','',re.findall(r'[₹0-9,]+',x.find('div',attrs={'class':'suggest-retail-price simple'}).text)[0]))\n",
    "        spec = re.sub(r'[\\n]','',x.find('div',attrs={'class':'product-desc-features stellar-body__small'}).text)\n",
    "        gst = int(re.sub(r'[₹,]','',re.findall(r'[₹0-9,]+',x.find('div', attrs={'class':'price-box price-final_price'}).text)[1]))\n",
    "        offer = int(re.sub(r'[₹,]','',re.findall(r'[₹0-9,]+',x.find('div',attrs={'class':'suggest-retail-price simple'}).text)[1]))\n",
    "        offerper = int(re.sub(r'[₹,]','',re.findall(r'[₹0-9,]+',x.find('div',attrs={'class':'suggest-retail-price simple'}).text)[2]))\n",
    "        if price==None:\n",
    "            prices.append(np.NaN)\n",
    "        else:\n",
    "            prices.append(price)\n",
    "        if title==None:\n",
    "            productname.append(np.NaN)\n",
    "        else:\n",
    "            productname.append(title)\n",
    "        if orig_price==None:\n",
    "            original_price.append(np.NaN)\n",
    "        else:\n",
    "            original_price.append(orig_price)\n",
    "        if spec==None:\n",
    "            specs.append(np.NaN)\n",
    "        else:\n",
    "            specs.append(spec)\n",
    "        if gst==None:\n",
    "            gst_price.append(np.NaN)\n",
    "        else:\n",
    "            gst_price.append(gst)\n",
    "        if offer==None:\n",
    "            price_saved.append(np.NaN)\n",
    "        else:\n",
    "            price_saved.append(offer)\n",
    "        if offerper==None:\n",
    "            offer_per.append(np.NaN)\n",
    "        else:\n",
    "            offer_per.append(offerper)   "
   ]
  },
  {
   "cell_type": "code",
   "execution_count": 21,
   "id": "8e8ebcdf",
   "metadata": {},
   "outputs": [
    {
     "name": "stdout",
     "output_type": "stream",
     "text": [
      "360\n",
      "360\n",
      "360\n",
      "360\n",
      "360\n",
      "360\n",
      "360\n"
     ]
    }
   ],
   "source": [
    "print(len(productname)) \n",
    "print(len(prices)) \n",
    "print(len(original_price)) \n",
    "print(len(specs)) \n",
    "print(len(gst_price)) \n",
    "print(len(price_saved))\n",
    "print(len(offer_per)) "
   ]
  },
  {
   "cell_type": "code",
   "execution_count": 22,
   "id": "dc50cd2b",
   "metadata": {},
   "outputs": [],
   "source": [
    "df = pd.DataFrame({'ProductName':productname, 'Features':specs, 'Price':prices,  'OriginalPrice':original_price, 'GST':gst_price, 'PriceSaved':price_saved, 'OfferPercenatge':offer_per})"
   ]
  },
  {
   "cell_type": "code",
   "execution_count": 23,
   "id": "5b8865f4",
   "metadata": {},
   "outputs": [],
   "source": [
    "def extract_processor(x):\n",
    "    return re.findall(r'[A-z0-9-®™ ]+(?:P|p)rocessor',x)[0]"
   ]
  },
  {
   "cell_type": "code",
   "execution_count": 24,
   "id": "9bca36da",
   "metadata": {},
   "outputs": [],
   "source": [
    "df['Processor'] = df['Features'].apply(extract_processor)"
   ]
  },
  {
   "cell_type": "code",
   "execution_count": 25,
   "id": "e971384d",
   "metadata": {},
   "outputs": [],
   "source": [
    "def extract_RAM(x):\n",
    "    return re.findall(r'[0-9]{1,2}\\sGB',x)[0]"
   ]
  },
  {
   "cell_type": "code",
   "execution_count": 26,
   "id": "567e117c",
   "metadata": {},
   "outputs": [],
   "source": [
    "df['RAM(GB)']=df['Features'].apply(extract_RAM)"
   ]
  },
  {
   "cell_type": "code",
   "execution_count": 27,
   "id": "3a4efdfe",
   "metadata": {},
   "outputs": [],
   "source": [
    "def extract_Hard_drive(x):\n",
    "    return re.findall(r'[0-9]{1,3}\\s?(?:GB|TB)',x)[1]"
   ]
  },
  {
   "cell_type": "code",
   "execution_count": 28,
   "id": "907db269",
   "metadata": {},
   "outputs": [],
   "source": [
    "df['Hard_Drive(GB)']=df['Features'].apply(extract_Hard_drive)"
   ]
  },
  {
   "cell_type": "code",
   "execution_count": 29,
   "id": "9b8d6547",
   "metadata": {},
   "outputs": [],
   "source": [
    "def extract_screen_size(x):\n",
    "    return re.findall(r'[0-9.]+ cm',x)[0]"
   ]
  },
  {
   "cell_type": "code",
   "execution_count": 30,
   "id": "64b8fe7c",
   "metadata": {},
   "outputs": [],
   "source": [
    "df['ScreenSize']=df['Features'].apply(extract_screen_size)"
   ]
  },
  {
   "cell_type": "code",
   "execution_count": 31,
   "id": "f658305c",
   "metadata": {},
   "outputs": [],
   "source": [
    "def extract_os(x):\n",
    "    return re.findall(r'Windows [0-9]+ (?:Pro|Home Single Language|Home)',x)[0]"
   ]
  },
  {
   "cell_type": "code",
   "execution_count": 32,
   "id": "c1f7fae0",
   "metadata": {},
   "outputs": [],
   "source": [
    "df['OS']=df['Features'].apply(extract_os)"
   ]
  },
  {
   "cell_type": "code",
   "execution_count": 37,
   "id": "e40e9ffe",
   "metadata": {},
   "outputs": [
    {
     "data": {
      "text/html": [
       "<div>\n",
       "<style scoped>\n",
       "    .dataframe tbody tr th:only-of-type {\n",
       "        vertical-align: middle;\n",
       "    }\n",
       "\n",
       "    .dataframe tbody tr th {\n",
       "        vertical-align: top;\n",
       "    }\n",
       "\n",
       "    .dataframe thead th {\n",
       "        text-align: right;\n",
       "    }\n",
       "</style>\n",
       "<table border=\"1\" class=\"dataframe\">\n",
       "  <thead>\n",
       "    <tr style=\"text-align: right;\">\n",
       "      <th></th>\n",
       "      <th>ProductName</th>\n",
       "      <th>Features</th>\n",
       "      <th>Price</th>\n",
       "      <th>OriginalPrice</th>\n",
       "      <th>GST</th>\n",
       "      <th>PriceSaved</th>\n",
       "      <th>OfferPercenatge</th>\n",
       "      <th>Processor</th>\n",
       "      <th>RAM(GB)</th>\n",
       "      <th>Hard_Drive(GB)</th>\n",
       "      <th>ScreenSize</th>\n",
       "      <th>OS</th>\n",
       "      <th>ProductID</th>\n",
       "    </tr>\n",
       "  </thead>\n",
       "  <tbody>\n",
       "    <tr>\n",
       "      <th>0</th>\n",
       "      <td>HPPavilionPlus35.6cmLaptop14-ew0154TU-Blue</td>\n",
       "      <td>13th Generation Intel® Core™ i7 processorWindo...</td>\n",
       "      <td>114999</td>\n",
       "      <td>132408</td>\n",
       "      <td>17542</td>\n",
       "      <td>17409</td>\n",
       "      <td>13</td>\n",
       "      <td>13th Generation Intel® Core™ i7 processor</td>\n",
       "      <td>16 GB</td>\n",
       "      <td>1 TB</td>\n",
       "      <td>35.6 cm</td>\n",
       "      <td>Windows 11 Pro</td>\n",
       "      <td>92U78PA</td>\n",
       "    </tr>\n",
       "    <tr>\n",
       "      <th>1</th>\n",
       "      <td>HPPavilionPlus35.6cmLaptop14-ey0789AU-Silver</td>\n",
       "      <td>AMD Ryzen™ 7 processorWindows 11 Home35.6 cm (...</td>\n",
       "      <td>91999</td>\n",
       "      <td>105926</td>\n",
       "      <td>14034</td>\n",
       "      <td>13927</td>\n",
       "      <td>13</td>\n",
       "      <td>AMD Ryzen™ 7 processor</td>\n",
       "      <td>16 GB</td>\n",
       "      <td>1TB</td>\n",
       "      <td>35.6 cm</td>\n",
       "      <td>Windows 11 Home</td>\n",
       "      <td>92U77PA</td>\n",
       "    </tr>\n",
       "    <tr>\n",
       "      <th>2</th>\n",
       "      <td>HPPavilion35.6cmx3602-in-1Laptop14-ek1009TU-Gold</td>\n",
       "      <td>13th Generation Intel® Core™ i5 processorWindo...</td>\n",
       "      <td>83999</td>\n",
       "      <td>92746</td>\n",
       "      <td>12813</td>\n",
       "      <td>8747</td>\n",
       "      <td>9</td>\n",
       "      <td>13th Generation Intel® Core™ i5 processor</td>\n",
       "      <td>16 GB</td>\n",
       "      <td>1 TB</td>\n",
       "      <td>35.6 cm</td>\n",
       "      <td>Windows 11 Home</td>\n",
       "      <td>7N759PA</td>\n",
       "    </tr>\n",
       "    <tr>\n",
       "      <th>3</th>\n",
       "      <td>HPEnvy33.8cmx3602-in-1LaptopOLED13-bf0141TU-Si...</td>\n",
       "      <td>12th Gen Intel® Evo™ Powered by Core™ i7 proce...</td>\n",
       "      <td>109999</td>\n",
       "      <td>121629</td>\n",
       "      <td>16780</td>\n",
       "      <td>11630</td>\n",
       "      <td>9</td>\n",
       "      <td>12th Gen Intel® Evo™ Powered by Core™ i7 proce...</td>\n",
       "      <td>16 GB</td>\n",
       "      <td>512 GB</td>\n",
       "      <td>33.8 cm</td>\n",
       "      <td>Windows 11 Home</td>\n",
       "      <td>81B47PA</td>\n",
       "    </tr>\n",
       "    <tr>\n",
       "      <th>4</th>\n",
       "      <td>HPPavilion35.6cmLaptop14-ec1003AU</td>\n",
       "      <td>AMD Ryzen™ 5-5625U ProcessorWindows 11 Home35....</td>\n",
       "      <td>52999</td>\n",
       "      <td>61022</td>\n",
       "      <td>8085</td>\n",
       "      <td>8023</td>\n",
       "      <td>13</td>\n",
       "      <td>AMD Ryzen™ 5-5625U Processor</td>\n",
       "      <td>8 GB</td>\n",
       "      <td>512 GB</td>\n",
       "      <td>35.6 cm</td>\n",
       "      <td>Windows 11 Home</td>\n",
       "      <td>689H4PA</td>\n",
       "    </tr>\n",
       "  </tbody>\n",
       "</table>\n",
       "</div>"
      ],
      "text/plain": [
       "                                         ProductName  \\\n",
       "0         HPPavilionPlus35.6cmLaptop14-ew0154TU-Blue   \n",
       "1       HPPavilionPlus35.6cmLaptop14-ey0789AU-Silver   \n",
       "2   HPPavilion35.6cmx3602-in-1Laptop14-ek1009TU-Gold   \n",
       "3  HPEnvy33.8cmx3602-in-1LaptopOLED13-bf0141TU-Si...   \n",
       "4                  HPPavilion35.6cmLaptop14-ec1003AU   \n",
       "\n",
       "                                            Features   Price  OriginalPrice  \\\n",
       "0  13th Generation Intel® Core™ i7 processorWindo...  114999         132408   \n",
       "1  AMD Ryzen™ 7 processorWindows 11 Home35.6 cm (...   91999         105926   \n",
       "2  13th Generation Intel® Core™ i5 processorWindo...   83999          92746   \n",
       "3  12th Gen Intel® Evo™ Powered by Core™ i7 proce...  109999         121629   \n",
       "4  AMD Ryzen™ 5-5625U ProcessorWindows 11 Home35....   52999          61022   \n",
       "\n",
       "     GST  PriceSaved  OfferPercenatge  \\\n",
       "0  17542       17409               13   \n",
       "1  14034       13927               13   \n",
       "2  12813        8747                9   \n",
       "3  16780       11630                9   \n",
       "4   8085        8023               13   \n",
       "\n",
       "                                           Processor RAM(GB) Hard_Drive(GB)  \\\n",
       "0          13th Generation Intel® Core™ i7 processor   16 GB           1 TB   \n",
       "1                             AMD Ryzen™ 7 processor   16 GB            1TB   \n",
       "2          13th Generation Intel® Core™ i5 processor   16 GB           1 TB   \n",
       "3  12th Gen Intel® Evo™ Powered by Core™ i7 proce...   16 GB         512 GB   \n",
       "4                       AMD Ryzen™ 5-5625U Processor    8 GB         512 GB   \n",
       "\n",
       "  ScreenSize               OS ProductID  \n",
       "0    35.6 cm   Windows 11 Pro   92U78PA  \n",
       "1    35.6 cm  Windows 11 Home   92U77PA  \n",
       "2    35.6 cm  Windows 11 Home   7N759PA  \n",
       "3    33.8 cm  Windows 11 Home   81B47PA  \n",
       "4    35.6 cm  Windows 11 Home   689H4PA  "
      ]
     },
     "execution_count": 37,
     "metadata": {},
     "output_type": "execute_result"
    }
   ],
   "source": [
    "df.head()"
   ]
  },
  {
   "cell_type": "code",
   "execution_count": 164,
   "id": "c2217a8f",
   "metadata": {},
   "outputs": [],
   "source": [
    "def extract_capacity(x):\n",
    "    if x is None:\n",
    "        return None\n",
    "    elif 'TB' in x:\n",
    "        return float(re.findall(r'[0-9]+', x)[0])*1024\n",
    "    else:\n",
    "        return float(re.findall(r'[0-9]+', x)[0])"
   ]
  },
  {
   "cell_type": "code",
   "execution_count": 165,
   "id": "c64ced2e",
   "metadata": {},
   "outputs": [],
   "source": [
    "df['Hard_Drive(GB)'] = df['Hard_Drive(GB)'].apply(extract_capacity)"
   ]
  },
  {
   "cell_type": "code",
   "execution_count": 167,
   "id": "e6435e24",
   "metadata": {},
   "outputs": [],
   "source": [
    "df['RAM(GB)'] = df['RAM(GB)'].apply(lambda x: int(re.findall(r'[0-9]+ GB',x)[0][:-3]))"
   ]
  },
  {
   "cell_type": "code",
   "execution_count": 95,
   "id": "5d636b59",
   "metadata": {},
   "outputs": [],
   "source": [
    "df['ScreenSize'] = df['ScreenSize'].apply(lambda x: float(re.findall(r'[0-9.]+ cm',x)[0][:-3]))"
   ]
  },
  {
   "cell_type": "code",
   "execution_count": 53,
   "id": "b7670011",
   "metadata": {},
   "outputs": [],
   "source": [
    "import pickle\n",
    "with open('HP_Laptop.pkl','wb') as f:\n",
    "    pickle.dump(df,f)"
   ]
  },
  {
   "cell_type": "code",
   "execution_count": 192,
   "id": "7d1b8f54",
   "metadata": {},
   "outputs": [],
   "source": [
    "df['AdditionalFeatures']=df['Features'].apply(lambda x:re.findall(r'(?:D|d)rive\\s?[\\S ]+ ',x)[0][5:])"
   ]
  },
  {
   "cell_type": "code",
   "execution_count": 181,
   "id": "8bd2041f",
   "metadata": {},
   "outputs": [],
   "source": [
    "df['HardDrive']=df['HardDrive'].apply(lambda x:int(x))"
   ]
  },
  {
   "cell_type": "code",
   "execution_count": 34,
   "id": "38fff2b2",
   "metadata": {},
   "outputs": [],
   "source": [
    "Product_id=[]\n",
    "for i in range(1,16):\n",
    "    for x in s.find_all('div', attrs={'class':'product details product-item-details'}):\n",
    "        pid = x.find('div',attrs={'class':'product-sku stellar-body__extra-small'})\n",
    "        if pid==None:\n",
    "            Product_id.append(np.NaN)\n",
    "        else:\n",
    "            Product_id.append(pid)"
   ]
  },
  {
   "cell_type": "code",
   "execution_count": 35,
   "id": "c5d6a3a3",
   "metadata": {},
   "outputs": [],
   "source": [
    "df['ProductID']=Product_id"
   ]
  },
  {
   "cell_type": "code",
   "execution_count": 36,
   "id": "d0542565",
   "metadata": {},
   "outputs": [],
   "source": [
    "df['ProductID']=df['ProductID'].apply(lambda x:\"\".join(x))"
   ]
  },
  {
   "cell_type": "code",
   "execution_count": 194,
   "id": "4ccb0ff8",
   "metadata": {},
   "outputs": [],
   "source": [
    "order=['ProductID','ProductName','Processor','RAM','HardDrive','OS','ScreenSize','OriginalPrice','Price','GST','PriceSaved','OfferPercentage','AdditionalFeatures']"
   ]
  },
  {
   "cell_type": "code",
   "execution_count": 195,
   "id": "6c821904",
   "metadata": {},
   "outputs": [],
   "source": [
    "df=df[order]"
   ]
  },
  {
   "cell_type": "code",
   "execution_count": 149,
   "id": "c4b95636",
   "metadata": {},
   "outputs": [
    {
     "data": {
      "text/html": [
       "<div>\n",
       "<style scoped>\n",
       "    .dataframe tbody tr th:only-of-type {\n",
       "        vertical-align: middle;\n",
       "    }\n",
       "\n",
       "    .dataframe tbody tr th {\n",
       "        vertical-align: top;\n",
       "    }\n",
       "\n",
       "    .dataframe thead th {\n",
       "        text-align: right;\n",
       "    }\n",
       "</style>\n",
       "<table border=\"1\" class=\"dataframe\">\n",
       "  <thead>\n",
       "    <tr style=\"text-align: right;\">\n",
       "      <th></th>\n",
       "      <th>OriginalPrice</th>\n",
       "      <th>Price</th>\n",
       "      <th>PriceSaved</th>\n",
       "      <th>GST</th>\n",
       "    </tr>\n",
       "  </thead>\n",
       "  <tbody>\n",
       "    <tr>\n",
       "      <th>OriginalPrice</th>\n",
       "      <td>1.000000</td>\n",
       "      <td>0.991977</td>\n",
       "      <td>0.576109</td>\n",
       "      <td>0.991976</td>\n",
       "    </tr>\n",
       "    <tr>\n",
       "      <th>Price</th>\n",
       "      <td>0.991977</td>\n",
       "      <td>1.000000</td>\n",
       "      <td>0.468155</td>\n",
       "      <td>1.000000</td>\n",
       "    </tr>\n",
       "    <tr>\n",
       "      <th>PriceSaved</th>\n",
       "      <td>0.576109</td>\n",
       "      <td>0.468155</td>\n",
       "      <td>1.000000</td>\n",
       "      <td>0.468149</td>\n",
       "    </tr>\n",
       "    <tr>\n",
       "      <th>GST</th>\n",
       "      <td>0.991976</td>\n",
       "      <td>1.000000</td>\n",
       "      <td>0.468149</td>\n",
       "      <td>1.000000</td>\n",
       "    </tr>\n",
       "  </tbody>\n",
       "</table>\n",
       "</div>"
      ],
      "text/plain": [
       "               OriginalPrice     Price  PriceSaved       GST\n",
       "OriginalPrice       1.000000  0.991977    0.576109  0.991976\n",
       "Price               0.991977  1.000000    0.468155  1.000000\n",
       "PriceSaved          0.576109  0.468155    1.000000  0.468149\n",
       "GST                 0.991976  1.000000    0.468149  1.000000"
      ]
     },
     "execution_count": 149,
     "metadata": {},
     "output_type": "execute_result"
    }
   ],
   "source": [
    "df[['OriginalPrice','Price','PriceSaved','GST']].corr()"
   ]
  },
  {
   "cell_type": "code",
   "execution_count": 41,
   "id": "bd214aab",
   "metadata": {},
   "outputs": [],
   "source": [
    "corr_max = df.corr(numeric_only=True)"
   ]
  },
  {
   "cell_type": "code",
   "execution_count": 50,
   "id": "423d4609",
   "metadata": {},
   "outputs": [],
   "source": [
    "import pickle\n",
    "with open('HP_df.pkl','wb') as f:\n",
    "    pickle.dump(df,f)"
   ]
  },
  {
   "cell_type": "code",
   "execution_count": 51,
   "id": "4eb591d9",
   "metadata": {},
   "outputs": [],
   "source": [
    "import pickle\n",
    "with open(\"HP_df.pkl\",\"rb\") as f:\n",
    "    hello_lap = pickle.load(f)"
   ]
  },
  {
   "cell_type": "code",
   "execution_count": 52,
   "id": "37976398",
   "metadata": {},
   "outputs": [],
   "source": [
    "df=hello_lap.copy()"
   ]
  },
  {
   "cell_type": "code",
   "execution_count": 3,
   "id": "073e8f39",
   "metadata": {},
   "outputs": [
    {
     "name": "stdout",
     "output_type": "stream",
     "text": [
      "<class 'pandas.core.frame.DataFrame'>\n",
      "RangeIndex: 360 entries, 0 to 359\n",
      "Data columns (total 13 columns):\n",
      " #   Column           Non-Null Count  Dtype  \n",
      "---  ------           --------------  -----  \n",
      " 0   ProductName      360 non-null    object \n",
      " 1   Processor        360 non-null    object \n",
      " 2   RAM              360 non-null    int64  \n",
      " 3   HardDrive        360 non-null    float64\n",
      " 4   OS               360 non-null    object \n",
      " 5   ScreenSize       360 non-null    object \n",
      " 6   Features         360 non-null    object \n",
      " 7   OriginalPrice    360 non-null    int64  \n",
      " 8   GST              360 non-null    int64  \n",
      " 9   OfferPercentage  360 non-null    int64  \n",
      " 10  PriceSaved       360 non-null    int64  \n",
      " 11  Price            360 non-null    int64  \n",
      " 12  ProductID        360 non-null    object \n",
      "dtypes: float64(1), int64(6), object(6)\n",
      "memory usage: 36.7+ KB\n"
     ]
    }
   ],
   "source": [
    "df.info()"
   ]
  },
  {
   "cell_type": "code",
   "execution_count": 40,
   "id": "fa3d82fa",
   "metadata": {},
   "outputs": [],
   "source": [
    "df['HardDrive']=df['HardDrive'].apply(lambda x:int(x))"
   ]
  },
  {
   "cell_type": "code",
   "execution_count": 9,
   "id": "a5856b85",
   "metadata": {},
   "outputs": [
    {
     "data": {
      "text/plain": [
       "176    136999\n",
       "224    136999\n",
       "56     136999\n",
       "32     136999\n",
       "104    136999\n",
       "        ...  \n",
       "290     52999\n",
       "338     52999\n",
       "50      52999\n",
       "314     52999\n",
       "266     52999\n",
       "Name: Price, Length: 360, dtype: int64"
      ]
     },
     "execution_count": 9,
     "metadata": {},
     "output_type": "execute_result"
    }
   ],
   "source": [
    "df['Price'].sort_values(ascending=False)"
   ]
  },
  {
   "cell_type": "code",
   "execution_count": 14,
   "id": "a7d7d7d0",
   "metadata": {},
   "outputs": [
    {
     "data": {
      "text/html": [
       "<div>\n",
       "<style scoped>\n",
       "    .dataframe tbody tr th:only-of-type {\n",
       "        vertical-align: middle;\n",
       "    }\n",
       "\n",
       "    .dataframe tbody tr th {\n",
       "        vertical-align: top;\n",
       "    }\n",
       "\n",
       "    .dataframe thead th {\n",
       "        text-align: right;\n",
       "    }\n",
       "</style>\n",
       "<table border=\"1\" class=\"dataframe\">\n",
       "  <thead>\n",
       "    <tr style=\"text-align: right;\">\n",
       "      <th></th>\n",
       "      <th>ProductName</th>\n",
       "      <th>Processor</th>\n",
       "      <th>RAM</th>\n",
       "      <th>HardDrive</th>\n",
       "      <th>OS</th>\n",
       "      <th>ScreenSize</th>\n",
       "      <th>Features</th>\n",
       "      <th>OriginalPrice</th>\n",
       "      <th>GST</th>\n",
       "      <th>OfferPercentage</th>\n",
       "      <th>PriceSaved</th>\n",
       "      <th>Price</th>\n",
       "      <th>ProductID</th>\n",
       "    </tr>\n",
       "  </thead>\n",
       "  <tbody>\n",
       "    <tr>\n",
       "      <th>8</th>\n",
       "      <td>HPEnvy39.6cmx3602-in-1LaptopOLED15-fe0014TX</td>\n",
       "      <td>13th Generation Intel® Core™ i7 processor</td>\n",
       "      <td>16</td>\n",
       "      <td>1024.0</td>\n",
       "      <td>Windows 11 Home</td>\n",
       "      <td>39.6 cm</td>\n",
       "      <td>Backlit Keyboard, Wide Vision 5MP IR camera, B...</td>\n",
       "      <td>149588</td>\n",
       "      <td>20898</td>\n",
       "      <td>8</td>\n",
       "      <td>12589</td>\n",
       "      <td>136999</td>\n",
       "      <td>8C4R6PA</td>\n",
       "    </tr>\n",
       "  </tbody>\n",
       "</table>\n",
       "</div>"
      ],
      "text/plain": [
       "                                   ProductName  \\\n",
       "8  HPEnvy39.6cmx3602-in-1LaptopOLED15-fe0014TX   \n",
       "\n",
       "                                   Processor  RAM  HardDrive               OS  \\\n",
       "8  13th Generation Intel® Core™ i7 processor   16     1024.0  Windows 11 Home   \n",
       "\n",
       "  ScreenSize                                           Features  \\\n",
       "8    39.6 cm  Backlit Keyboard, Wide Vision 5MP IR camera, B...   \n",
       "\n",
       "   OriginalPrice    GST  OfferPercentage  PriceSaved   Price ProductID  \n",
       "8         149588  20898                8       12589  136999   8C4R6PA  "
      ]
     },
     "execution_count": 14,
     "metadata": {},
     "output_type": "execute_result"
    }
   ],
   "source": [
    "df.loc[df.Price==df.Price.max(),:].head(1)"
   ]
  },
  {
   "cell_type": "code",
   "execution_count": 15,
   "id": "3c58f505",
   "metadata": {},
   "outputs": [
    {
     "data": {
      "text/html": [
       "<div>\n",
       "<style scoped>\n",
       "    .dataframe tbody tr th:only-of-type {\n",
       "        vertical-align: middle;\n",
       "    }\n",
       "\n",
       "    .dataframe tbody tr th {\n",
       "        vertical-align: top;\n",
       "    }\n",
       "\n",
       "    .dataframe thead th {\n",
       "        text-align: right;\n",
       "    }\n",
       "</style>\n",
       "<table border=\"1\" class=\"dataframe\">\n",
       "  <thead>\n",
       "    <tr style=\"text-align: right;\">\n",
       "      <th></th>\n",
       "      <th>ProductName</th>\n",
       "      <th>Processor</th>\n",
       "      <th>RAM</th>\n",
       "      <th>HardDrive</th>\n",
       "      <th>OS</th>\n",
       "      <th>ScreenSize</th>\n",
       "      <th>Features</th>\n",
       "      <th>OriginalPrice</th>\n",
       "      <th>GST</th>\n",
       "      <th>OfferPercentage</th>\n",
       "      <th>PriceSaved</th>\n",
       "      <th>Price</th>\n",
       "      <th>ProductID</th>\n",
       "    </tr>\n",
       "  </thead>\n",
       "  <tbody>\n",
       "    <tr>\n",
       "      <th>2</th>\n",
       "      <td>HPPavilion35.6cmLaptop14-ec1003AU</td>\n",
       "      <td>AMD Ryzen™ 5-5625U Processor</td>\n",
       "      <td>8</td>\n",
       "      <td>512.0</td>\n",
       "      <td>Windows 11 Home</td>\n",
       "      <td>35.6 cm</td>\n",
       "      <td>Backlit keyboard, Wide Vision 720p HD camera, ...</td>\n",
       "      <td>61022</td>\n",
       "      <td>8085</td>\n",
       "      <td>13</td>\n",
       "      <td>8023</td>\n",
       "      <td>52999</td>\n",
       "      <td>689H4PA</td>\n",
       "    </tr>\n",
       "  </tbody>\n",
       "</table>\n",
       "</div>"
      ],
      "text/plain": [
       "                         ProductName                     Processor  RAM  \\\n",
       "2  HPPavilion35.6cmLaptop14-ec1003AU  AMD Ryzen™ 5-5625U Processor    8   \n",
       "\n",
       "   HardDrive               OS ScreenSize  \\\n",
       "2      512.0  Windows 11 Home    35.6 cm   \n",
       "\n",
       "                                            Features  OriginalPrice   GST  \\\n",
       "2  Backlit keyboard, Wide Vision 720p HD camera, ...          61022  8085   \n",
       "\n",
       "   OfferPercentage  PriceSaved  Price ProductID  \n",
       "2               13        8023  52999   689H4PA  "
      ]
     },
     "execution_count": 15,
     "metadata": {},
     "output_type": "execute_result"
    }
   ],
   "source": [
    "df.loc[df.Price==df.Price.min(),:].head(1)"
   ]
  },
  {
   "cell_type": "code",
   "execution_count": 16,
   "id": "35291e58",
   "metadata": {},
   "outputs": [],
   "source": [
    "def extract_processor_type(x):\n",
    "    if 'Intel' in x:\n",
    "        return 'Intel'\n",
    "    elif 'AMD' in x:\n",
    "        return 'AMD'"
   ]
  },
  {
   "cell_type": "code",
   "execution_count": 18,
   "id": "80a3f358",
   "metadata": {},
   "outputs": [],
   "source": [
    "df['Processor_Type']=df['Processor'].apply(extract_processor_type)"
   ]
  },
  {
   "cell_type": "code",
   "execution_count": 27,
   "id": "3396e5b4",
   "metadata": {},
   "outputs": [],
   "source": [
    "df.rename(columns={'Additional Features':'Additional_Features'},inplace=True)"
   ]
  },
  {
   "cell_type": "code",
   "execution_count": 28,
   "id": "2fee438e",
   "metadata": {},
   "outputs": [],
   "source": [
    "order=['ProductName','Processor','RAM','HardDrive','OS','ScreenSize','Additional_Features','Processor_Type','OriginalPrice','GST','OfferPercentage','PriceSaved','Price','ProductID']"
   ]
  },
  {
   "cell_type": "code",
   "execution_count": 29,
   "id": "817f2cc4",
   "metadata": {},
   "outputs": [],
   "source": [
    "df=df[order]"
   ]
  },
  {
   "cell_type": "code",
   "execution_count": 30,
   "id": "7906fd2f",
   "metadata": {},
   "outputs": [
    {
     "data": {
      "text/html": [
       "<div>\n",
       "<style scoped>\n",
       "    .dataframe tbody tr th:only-of-type {\n",
       "        vertical-align: middle;\n",
       "    }\n",
       "\n",
       "    .dataframe tbody tr th {\n",
       "        vertical-align: top;\n",
       "    }\n",
       "\n",
       "    .dataframe thead th {\n",
       "        text-align: right;\n",
       "    }\n",
       "</style>\n",
       "<table border=\"1\" class=\"dataframe\">\n",
       "  <thead>\n",
       "    <tr style=\"text-align: right;\">\n",
       "      <th></th>\n",
       "      <th>ProductName</th>\n",
       "      <th>Processor</th>\n",
       "      <th>RAM</th>\n",
       "      <th>HardDrive</th>\n",
       "      <th>OS</th>\n",
       "      <th>ScreenSize</th>\n",
       "      <th>Additional_Features</th>\n",
       "      <th>Processor_Type</th>\n",
       "      <th>OriginalPrice</th>\n",
       "      <th>GST</th>\n",
       "      <th>OfferPercentage</th>\n",
       "      <th>PriceSaved</th>\n",
       "      <th>Price</th>\n",
       "      <th>ProductID</th>\n",
       "    </tr>\n",
       "  </thead>\n",
       "  <tbody>\n",
       "    <tr>\n",
       "      <th>0</th>\n",
       "      <td>HPPavilionPlus35.6cmLaptop14-ew0154TU-Blue</td>\n",
       "      <td>13th Generation Intel® Core™ i7 processor</td>\n",
       "      <td>16</td>\n",
       "      <td>1024.0</td>\n",
       "      <td>Windows 11 Pro</td>\n",
       "      <td>35.6 cm</td>\n",
       "      <td>Backlit keyboard, Wide Vision 5MP IR camera, B...</td>\n",
       "      <td>Intel</td>\n",
       "      <td>132408</td>\n",
       "      <td>17542</td>\n",
       "      <td>13</td>\n",
       "      <td>17409</td>\n",
       "      <td>114999</td>\n",
       "      <td>92U78PA</td>\n",
       "    </tr>\n",
       "    <tr>\n",
       "      <th>1</th>\n",
       "      <td>HPPavilionPlus35.6cmLaptop14-ey0789AU-Silver</td>\n",
       "      <td>AMD Ryzen™ 7 processor</td>\n",
       "      <td>16</td>\n",
       "      <td>1024.0</td>\n",
       "      <td>Windows 11 Home</td>\n",
       "      <td>35.6 cm</td>\n",
       "      <td>Backlit keyboard, Wide Vision 5MP IR camera, B...</td>\n",
       "      <td>AMD</td>\n",
       "      <td>105926</td>\n",
       "      <td>14034</td>\n",
       "      <td>13</td>\n",
       "      <td>13927</td>\n",
       "      <td>91999</td>\n",
       "      <td>92U77PA</td>\n",
       "    </tr>\n",
       "    <tr>\n",
       "      <th>2</th>\n",
       "      <td>HPPavilion35.6cmLaptop14-ec1003AU</td>\n",
       "      <td>AMD Ryzen™ 5-5625U Processor</td>\n",
       "      <td>8</td>\n",
       "      <td>512.0</td>\n",
       "      <td>Windows 11 Home</td>\n",
       "      <td>35.6 cm</td>\n",
       "      <td>Backlit keyboard, Wide Vision 720p HD camera, ...</td>\n",
       "      <td>AMD</td>\n",
       "      <td>61022</td>\n",
       "      <td>8085</td>\n",
       "      <td>13</td>\n",
       "      <td>8023</td>\n",
       "      <td>52999</td>\n",
       "      <td>689H4PA</td>\n",
       "    </tr>\n",
       "    <tr>\n",
       "      <th>3</th>\n",
       "      <td>HPPavilion35.6cmx3602-in-1Laptop14-ek1009TU-Gold</td>\n",
       "      <td>13th Generation Intel® Core™ i5 processor</td>\n",
       "      <td>16</td>\n",
       "      <td>1024.0</td>\n",
       "      <td>Windows 11 Home</td>\n",
       "      <td>35.6 cm</td>\n",
       "      <td>Backlit keyboard, Fingerprint reader, True Vis...</td>\n",
       "      <td>Intel</td>\n",
       "      <td>92746</td>\n",
       "      <td>12813</td>\n",
       "      <td>9</td>\n",
       "      <td>8747</td>\n",
       "      <td>83999</td>\n",
       "      <td>7N759PA</td>\n",
       "    </tr>\n",
       "    <tr>\n",
       "      <th>4</th>\n",
       "      <td>HPEnvy33.8cmx3602-in-1LaptopOLED13-bf0141TU-Si...</td>\n",
       "      <td>12th Gen Intel® Evo™ Powered by Core™ i7 proce...</td>\n",
       "      <td>16</td>\n",
       "      <td>512.0</td>\n",
       "      <td>Windows 11 Home</td>\n",
       "      <td>33.8 cm</td>\n",
       "      <td>Backlit Keyboard, True Vision 5MP IR camera, B...</td>\n",
       "      <td>Intel</td>\n",
       "      <td>121629</td>\n",
       "      <td>16780</td>\n",
       "      <td>9</td>\n",
       "      <td>11630</td>\n",
       "      <td>109999</td>\n",
       "      <td>81B47PA</td>\n",
       "    </tr>\n",
       "  </tbody>\n",
       "</table>\n",
       "</div>"
      ],
      "text/plain": [
       "                                         ProductName  \\\n",
       "0         HPPavilionPlus35.6cmLaptop14-ew0154TU-Blue   \n",
       "1       HPPavilionPlus35.6cmLaptop14-ey0789AU-Silver   \n",
       "2                  HPPavilion35.6cmLaptop14-ec1003AU   \n",
       "3   HPPavilion35.6cmx3602-in-1Laptop14-ek1009TU-Gold   \n",
       "4  HPEnvy33.8cmx3602-in-1LaptopOLED13-bf0141TU-Si...   \n",
       "\n",
       "                                           Processor  RAM  HardDrive  \\\n",
       "0          13th Generation Intel® Core™ i7 processor   16     1024.0   \n",
       "1                             AMD Ryzen™ 7 processor   16     1024.0   \n",
       "2                       AMD Ryzen™ 5-5625U Processor    8      512.0   \n",
       "3          13th Generation Intel® Core™ i5 processor   16     1024.0   \n",
       "4  12th Gen Intel® Evo™ Powered by Core™ i7 proce...   16      512.0   \n",
       "\n",
       "                OS ScreenSize  \\\n",
       "0   Windows 11 Pro    35.6 cm   \n",
       "1  Windows 11 Home    35.6 cm   \n",
       "2  Windows 11 Home    35.6 cm   \n",
       "3  Windows 11 Home    35.6 cm   \n",
       "4  Windows 11 Home    33.8 cm   \n",
       "\n",
       "                                 Additional_Features Processor_Type  \\\n",
       "0  Backlit keyboard, Wide Vision 5MP IR camera, B...          Intel   \n",
       "1  Backlit keyboard, Wide Vision 5MP IR camera, B...            AMD   \n",
       "2  Backlit keyboard, Wide Vision 720p HD camera, ...            AMD   \n",
       "3  Backlit keyboard, Fingerprint reader, True Vis...          Intel   \n",
       "4  Backlit Keyboard, True Vision 5MP IR camera, B...          Intel   \n",
       "\n",
       "   OriginalPrice    GST  OfferPercentage  PriceSaved   Price ProductID  \n",
       "0         132408  17542               13       17409  114999   92U78PA  \n",
       "1         105926  14034               13       13927   91999   92U77PA  \n",
       "2          61022   8085               13        8023   52999   689H4PA  \n",
       "3          92746  12813                9        8747   83999   7N759PA  \n",
       "4         121629  16780                9       11630  109999   81B47PA  "
      ]
     },
     "execution_count": 30,
     "metadata": {},
     "output_type": "execute_result"
    }
   ],
   "source": [
    "df.head()"
   ]
  }
 ],
 "metadata": {
  "kernelspec": {
   "display_name": "Python 3 (ipykernel)",
   "language": "python",
   "name": "python3"
  },
  "language_info": {
   "codemirror_mode": {
    "name": "ipython",
    "version": 3
   },
   "file_extension": ".py",
   "mimetype": "text/x-python",
   "name": "python",
   "nbconvert_exporter": "python",
   "pygments_lexer": "ipython3",
   "version": "3.11.4"
  }
 },
 "nbformat": 4,
 "nbformat_minor": 5
}
